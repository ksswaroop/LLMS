{
 "cells": [
  {
   "cell_type": "code",
   "execution_count": 1,
   "id": "8519c72b-f2a2-4022-8bb8-0f4aceea0fe0",
   "metadata": {},
   "outputs": [],
   "source": [
    "from langchain.text_splitter import RecursiveCharacterTextSplitter\n",
    "from langchain_community.document_loaders import PyPDFLoader\n",
    "from operator import itemgetter\n",
    "from langchain_openai import ChatOpenAI\n",
    "from langchain_core.runnables import RunnablePassthrough\n",
    "from langchain.prompts import PromptTemplate,ChatPromptTemplate\n",
    "from langchain.chains import LLMChain\n",
    "from langchain_community.vectorstores import Chroma\n",
    "from langchain_community.document_loaders import TextLoader\n",
    "from langchain.text_splitter import CharacterTextSplitter\n",
    "from langchain.schema.document import Document\n",
    "#from langchain_community.vectorstores import \n",
    "from langchain.output_parsers import StructuredOutputParser\n",
    "from langchain_core.output_parsers import StrOutputParser\n",
    "from langchain_openai import ChatOpenAI\n",
    "from langchain_openai import OpenAIEmbeddings\n",
    "from langchain_core.runnables import Runnable\n",
    "from langchain_community.vectorstores import FAISS\n",
    "from PyPDF2 import PdfReader\n",
    "from dotenv import load_dotenv\n",
    "from langchain.load import dumps, loads\n",
    "import os"
   ]
  },
  {
   "cell_type": "code",
   "execution_count": 2,
   "id": "c5998156-749d-48cc-8a7c-ca5ec5a047c4",
   "metadata": {},
   "outputs": [],
   "source": [
    "os.environ['OPENAI_API_KEY'] =""
   ]
  },
  {
   "cell_type": "code",
   "execution_count": 3,
   "id": "c49813b1-e777-42f1-939c-b8c0cd9a3bb2",
   "metadata": {},
   "outputs": [],
   "source": [
    "CHUNK_SIZE = 1000\n",
    "CHUNK_OVERLAP = 200\n",
    "K = 3  \n",
    "def create_embedding_model():\n",
    "    \"\"\"Creates an instance of the OpenAI embedding model.\"\"\"\n",
    "    return OpenAIEmbeddings()\n"
   ]
  },
  {
   "cell_type": "code",
   "execution_count": 4,
   "id": "4e7715dc-808c-44dd-80c2-d28c4d9a599a",
   "metadata": {},
   "outputs": [],
   "source": [
    "def create_vector_database(pdf_reader):\n",
    "    \"\"\"\n",
    "    Creates a FAISS vector database from the provided PDF reader object.\n",
    "\n",
    "    Args:\n",
    "        pdf_reader (PyPDF2.PdfReader): The PDF reader object containing the document content.\n",
    "\n",
    "    Returns:\n",
    "        FAISS: The created FAISS vector database.\n",
    "    \"\"\"\n",
    "    pdf_reader=PdfReader(pdf_reader)\n",
    "    text = \"\"\n",
    "    for page in pdf_reader.pages:\n",
    "        text += page.extract_text()  # Extract text from each page and concatenate\n",
    "\n",
    "    text_splitter = RecursiveCharacterTextSplitter(\n",
    "        chunk_size=CHUNK_SIZE,\n",
    "        chunk_overlap=CHUNK_OVERLAP,\n",
    "        length_function=len\n",
    "    )\n",
    "\n",
    "    chunks = text_splitter.split_text(text)\n",
    "    db = FAISS.from_texts(chunks, embedding=create_embedding_model())\n",
    "    return db"
   ]
  },
  {
   "cell_type": "code",
   "execution_count": 5,
   "id": "433ece91-ebb3-42b4-9efe-05024be1cc13",
   "metadata": {},
   "outputs": [],
   "source": [
    "file_path=\"C:/Users/ksais/Downloads/Documents/handbook.pdf\""
   ]
  },
  {
   "cell_type": "code",
   "execution_count": null,
   "id": "9688d364-98a1-46a4-9611-4be8aa1ec183",
   "metadata": {},
   "outputs": [],
   "source": []
  }
 ],
 "metadata": {
  "kernelspec": {
   "display_name": "Python 3.9 (torch)",
   "language": "python",
   "name": "pytorch"
  },
  "language_info": {
   "codemirror_mode": {
    "name": "ipython",
    "version": 3
   },
   "file_extension": ".py",
   "mimetype": "text/x-python",
   "name": "python",
   "nbconvert_exporter": "python",
   "pygments_lexer": "ipython3",
   "version": "3.11.7"
  },
  "widgets": {
   "application/vnd.jupyter.widget-state+json": {
    "state": {},
    "version_major": 2,
    "version_minor": 0
   }
  }
 },
 "nbformat": 4,
 "nbformat_minor": 5
}
