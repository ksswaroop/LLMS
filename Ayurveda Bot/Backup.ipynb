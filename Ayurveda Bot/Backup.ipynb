{
 "cells": [
  {
   "cell_type": "code",
   "execution_count": 10,
   "id": "366ec679-006f-4f1d-827d-3eb25fe270c2",
   "metadata": {},
   "outputs": [
    {
     "name": "stdout",
     "output_type": "stream",
     "text": [
      "This is an example of a sentence with junk characters.\n",
      "Another one with junk characters to clean.\n"
     ]
    }
   ],
   "source": [
    "import re\n",
    "\n",
    "# Sample list of sentences\n",
    "document = [\n",
    "    \"Thi$%s is an e%xa@mpl^e of a# sent$en^ce w%ith j*unk characters.\",\n",
    "    \"Ano@the$r on%e wi^th ju#nk ch@aract^ers to cle@an.\"\n",
    "    # Add more sentences as needed\n",
    "]\n",
    "\n",
    "# Define a function to remove junk characters\n",
    "def remove_junk(sentence):\n",
    "    # Adjust the regex pattern based on the junk characters in your document\n",
    "    cleaned_sentence = re.sub(r'[^a-zA-Z0-9\\s,.!?]', '', sentence)  # Keeps alphanumeric and punctuation\n",
    "    return cleaned_sentence\n",
    "\n",
    "# Apply the cleaning function to the document\n",
    "cleaned_document = [remove_junk(sentence) for sentence in document]\n",
    "\n",
    "# Print cleaned document\n",
    "for sentence in cleaned_document:\n",
    "    print(sentence)\n"
   ]
  },
  {
   "cell_type": "code",
   "execution_count": 11,
   "id": "acb12643-0583-4c49-a6c8-4e79e7348435",
   "metadata": {},
   "outputs": [],
   "source": [
    "from PyPDF2 import PdfReader"
   ]
  },
  {
   "cell_type": "code",
   "execution_count": 12,
   "id": "982509a9-259f-4b55-834c-bdc2225ffb1d",
   "metadata": {},
   "outputs": [
    {
     "data": {
      "text/plain": [
       "['.ipynb_checkpoints',\n",
       " 'sivananda-practice-of-ayurveda.pdf',\n",
       " 'The indian operation for coucing cataract.pdf',\n",
       " 'The Science of Breath.pdf',\n",
       " 'The Magic of Ayurveda.pdf',\n",
       " 'Everyday Ayurveda – a practical guide to healthy living - Ayurveda UK.pdf',\n",
       " 'Shushrutha samhita.pdf',\n",
       " 'swami-sada-shiva-tirtha-the-ayurveda-encyclopedia.pdf',\n",
       " 'The study of Patanjali.pdf']"
      ]
     },
     "execution_count": 12,
     "metadata": {},
     "output_type": "execute_result"
    }
   ],
   "source": [
    "pdf_file_folder=\"/home/swaroop/Documents/Coding/LLMS/Ayurveda Bot/Data\"\n",
    "os.listdir(pdf_file_folder)"
   ]
  },
  {
   "cell_type": "code",
   "execution_count": 19,
   "id": "41a8828e-efa5-4f85-ba10-923a0cb6abb0",
   "metadata": {},
   "outputs": [
    {
     "data": {
      "text/plain": [
       "'/home/swaroop/Documents/Coding/LLMS/Ayurveda Bot/Data/sivananda-practice-of-ayurveda.pdf'"
      ]
     },
     "execution_count": 19,
     "metadata": {},
     "output_type": "execute_result"
    }
   ],
   "source": [
    "os.path.join(pdf_file_folder,'sivananda-practice-of-ayurveda.pdf')"
   ]
  },
  {
   "cell_type": "code",
   "execution_count": 15,
   "id": "db13af79-311f-41c0-8f61-876fd055ec56",
   "metadata": {},
   "outputs": [],
   "source": [
    "reader=PdfReader(os.path.join(pdf_file_folder,'sivananda-practice-of-ayurveda.pdf'))"
   ]
  },
  {
   "cell_type": "code",
   "execution_count": 21,
   "id": "e0d20db9-cc75-41e1-8090-f57ae98f9e01",
   "metadata": {},
   "outputs": [
    {
     "name": "stdout",
     "output_type": "stream",
     "text": [
      "Stack\n",
      "Annex\n",
      "B\n",
      "132\n",
      "Y6A8\n",
      "1905\n",
      "YOGIRAMACHARAKA\n",
      "\n"
     ]
    }
   ],
   "source": [
    "from PyPDF2 import PdfReader\n",
    "\n",
    "reader = PdfReader(\"/home/swaroop/Documents/Coding/LLMS/Ayurveda Bot/Data/The Science of Breath.pdf\")\n",
    "page = reader.pages[0]\n",
    "print(page.extract_text())"
   ]
  },
  {
   "cell_type": "code",
   "execution_count": 17,
   "id": "c845e7fb-5230-4e05-93b8-944610ebb2fb",
   "metadata": {},
   "outputs": [],
   "source": []
  },
  {
   "cell_type": "code",
   "execution_count": 29,
   "id": "361e0cb6-7484-4cec-9944-ba40b7474d4f",
   "metadata": {},
   "outputs": [],
   "source": [
    "text=[]\n",
    "with open(\"/home/swaroop/Documents/Coding/LLMS/Ayurveda Bot/Data/The Science of Breath.pdf\",\"rb\") as file:\n",
    "    for each in file:\n",
    "        text.append(each)"
   ]
  },
  {
   "cell_type": "code",
   "execution_count": 1,
   "id": "5c80dfce-689f-4729-8c10-e0e9e00dd1c7",
   "metadata": {},
   "outputs": [],
   "source": [
    "import pandas as pd\n",
    "\n",
    "# Example data structure for the extracted Q&A\n",
    "data = {\n",
    "    'Question': [\n",
    "        \n",
    "        \n",
    "    ],\n",
    "    'Answer': [\n",
    "        \"Atisara in Sanskrit means frequent passing of excessively watery, unformed stool.\",\n",
    "        \"The six tastes in Ayurveda are sweet, sour, salty, pungent, bitter, and astringent.\",\n",
    "        \"Common causes of diarrhea in Ayurveda include the consumption of excessive food that is hard to digest, dry foods, and contaminated water.\",\n",
    "        \"Herbs contraindicated in children include Aconitum spp., Adonis vernalis, Aristolochia spp., and others.\",\n",
    "        \"Post Digestive Effect, or Vipaka, occurs after digestion when nutrients are assimilated deep within the tissues.\",\n",
    "        \"Conventional medicine classifies diarrhea into four types acute bloody diarrhea, acute watery diarrhea, persistent diarrhea, and diarrhea with severe malnutrition.\",\n",
    "        \"Ayurveda recommends that a child with a Pitta constitution should drink water after meals to avoid stomach burning and other Pitta disorders.\",\n",
    "        \"Rasayana formulas like ashwagandha and tulsi help improve psychological symptoms in elderly individuals, attributed to their antistress and adaptogenic properties.\"\n",
    "    ],\n",
    "    'Source':[\n",
    "        \n",
    "    ]\n",
    "}\n",
    "\n",
    "# Create a DataFrame\n",
    "df = pd.DataFrame(data)\n",
    "\n",
    "# Save to a CSV file\n",
    "#df.to_csv('questions_answers.csv', index=False)\n"
   ]
  },
  {
   "cell_type": "code",
   "execution_count": 2,
   "id": "bdcf855a-7658-4cb0-9a42-59d8ca0800a9",
   "metadata": {},
   "outputs": [
    {
     "data": {
      "text/html": [
       "<div>\n",
       "<style scoped>\n",
       "    .dataframe tbody tr th:only-of-type {\n",
       "        vertical-align: middle;\n",
       "    }\n",
       "\n",
       "    .dataframe tbody tr th {\n",
       "        vertical-align: top;\n",
       "    }\n",
       "\n",
       "    .dataframe thead th {\n",
       "        text-align: right;\n",
       "    }\n",
       "</style>\n",
       "<table border=\"1\" class=\"dataframe\">\n",
       "  <thead>\n",
       "    <tr style=\"text-align: right;\">\n",
       "      <th></th>\n",
       "      <th>Question</th>\n",
       "      <th>Answer</th>\n",
       "    </tr>\n",
       "  </thead>\n",
       "  <tbody>\n",
       "    <tr>\n",
       "      <th>0</th>\n",
       "      <td>What is Atisara in Ayurveda?</td>\n",
       "      <td>Atisara in Sanskrit means frequent passing of ...</td>\n",
       "    </tr>\n",
       "    <tr>\n",
       "      <th>1</th>\n",
       "      <td>What are the six tastes according to Ayurveda?</td>\n",
       "      <td>The six tastes in Ayurveda are sweet, sour, sa...</td>\n",
       "    </tr>\n",
       "    <tr>\n",
       "      <th>2</th>\n",
       "      <td>How does Ayurveda classify diarrhea?</td>\n",
       "      <td>Common causes of diarrhea in Ayurveda include ...</td>\n",
       "    </tr>\n",
       "    <tr>\n",
       "      <th>3</th>\n",
       "      <td>What herbs are contraindicated in children acc...</td>\n",
       "      <td>Herbs contraindicated in children include Acon...</td>\n",
       "    </tr>\n",
       "    <tr>\n",
       "      <th>4</th>\n",
       "      <td>How does Ayurveda explain the post-digestive e...</td>\n",
       "      <td>Post Digestive Effect, or Vipaka, occurs after...</td>\n",
       "    </tr>\n",
       "    <tr>\n",
       "      <th>5</th>\n",
       "      <td>What are the classifications of diarrhea in co...</td>\n",
       "      <td>Conventional medicine classifies diarrhea into...</td>\n",
       "    </tr>\n",
       "    <tr>\n",
       "      <th>6</th>\n",
       "      <td>What does Ayurveda recommend for a child with ...</td>\n",
       "      <td>Ayurveda recommends that a child with a Pitta ...</td>\n",
       "    </tr>\n",
       "    <tr>\n",
       "      <th>7</th>\n",
       "      <td>What is the role of rasayana formulas in geria...</td>\n",
       "      <td>Rasayana formulas like ashwagandha and tulsi h...</td>\n",
       "    </tr>\n",
       "  </tbody>\n",
       "</table>\n",
       "</div>"
      ],
      "text/plain": [
       "                                            Question  \\\n",
       "0                       What is Atisara in Ayurveda?   \n",
       "1     What are the six tastes according to Ayurveda?   \n",
       "2               How does Ayurveda classify diarrhea?   \n",
       "3  What herbs are contraindicated in children acc...   \n",
       "4  How does Ayurveda explain the post-digestive e...   \n",
       "5  What are the classifications of diarrhea in co...   \n",
       "6  What does Ayurveda recommend for a child with ...   \n",
       "7  What is the role of rasayana formulas in geria...   \n",
       "\n",
       "                                              Answer  \n",
       "0  Atisara in Sanskrit means frequent passing of ...  \n",
       "1  The six tastes in Ayurveda are sweet, sour, sa...  \n",
       "2  Common causes of diarrhea in Ayurveda include ...  \n",
       "3  Herbs contraindicated in children include Acon...  \n",
       "4  Post Digestive Effect, or Vipaka, occurs after...  \n",
       "5  Conventional medicine classifies diarrhea into...  \n",
       "6  Ayurveda recommends that a child with a Pitta ...  \n",
       "7  Rasayana formulas like ashwagandha and tulsi h...  "
      ]
     },
     "execution_count": 2,
     "metadata": {},
     "output_type": "execute_result"
    }
   ],
   "source": [
    "df"
   ]
  },
  {
   "cell_type": "code",
   "execution_count": null,
   "id": "3854abc0-044d-4c9e-acf5-d206c882a575",
   "metadata": {},
   "outputs": [],
   "source": []
  }
 ],
 "metadata": {
  "kernelspec": {
   "display_name": "Python 3.11 (torch)",
   "language": "python",
   "name": "pytorch"
  },
  "language_info": {
   "codemirror_mode": {
    "name": "ipython",
    "version": 3
   },
   "file_extension": ".py",
   "mimetype": "text/x-python",
   "name": "python",
   "nbconvert_exporter": "python",
   "pygments_lexer": "ipython3",
   "version": "3.11.9"
  }
 },
 "nbformat": 4,
 "nbformat_minor": 5
}
