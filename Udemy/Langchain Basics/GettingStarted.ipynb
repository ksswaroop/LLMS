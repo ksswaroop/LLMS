{
 "cells": [
  {
   "cell_type": "markdown",
   "id": "7a7cc548-4fd7-4ecc-bf07-1c841fccb1f6",
   "metadata": {},
   "source": [
    "### Getting started With Langchain and Open AI\n",
    " 1. Get setup with LangChain, LangSmith and LangServe\n",
    " 2. Use the most basic and common components of LangChain: prompt templates, model and output parsers.\n",
    " 3. Build a simple application with LangChain\n",
    " 4. Trace your application with LangSmith\n",
    " 5. Serve your application with LangServe\n"
   ]
  },
  {
   "cell_type": "code",
   "execution_count": null,
   "id": "f4df63ef-c55d-49bc-bb3b-8b55be655b3d",
   "metadata": {},
   "outputs": [],
   "source": []
  }
 ],
 "metadata": {
  "kernelspec": {
   "display_name": "Python 3.11 (torch)",
   "language": "python",
   "name": "pytorch"
  },
  "language_info": {
   "codemirror_mode": {
    "name": "ipython",
    "version": 3
   },
   "file_extension": ".py",
   "mimetype": "text/x-python",
   "name": "python",
   "nbconvert_exporter": "python",
   "pygments_lexer": "ipython3",
   "version": "3.11.9"
  }
 },
 "nbformat": 4,
 "nbformat_minor": 5
}
