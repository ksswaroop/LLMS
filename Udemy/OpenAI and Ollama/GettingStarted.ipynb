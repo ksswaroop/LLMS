{
 "cells": [
  {
   "cell_type": "code",
   "execution_count": 1,
   "id": "06666419-7bc7-402d-bf6d-26b87b857a5c",
   "metadata": {},
   "outputs": [],
   "source": [
    "import os\n",
    "from dotenv import load_dotenv\n",
    "load_dotenv()\n",
    "\n",
    "# Set API keys\n",
    "os.environ['OPENAI_API_KEY'] = os.getenv(\"OPENAI_API_KEY\")\n",
    "os.environ[\"LANGCHAIN_API_KEY\"] = os.getenv(\"LANGCHAIN_API_KEY\")\n",
    "\n",
    "# Langsmith Tracking\n",
    "os.environ[\"LANGCHAIN_PROJECT\"] = os.getenv(\"LANGCHAIN_PROJECT\")\n",
    "os.environ[\"LANGCHAIN_ENDPOINT\"] = \"https://api.smith.langchain.com\"\n",
    "os.environ[\"LANGCHAIN_TRACING_V2\"] = \"true\"  # Correctly setting the tracing variable\n"
   ]
  },
  {
   "cell_type": "code",
   "execution_count": 5,
   "id": "11d9797a-a330-4eb5-8604-4afc28be7c17",
   "metadata": {},
   "outputs": [
    {
     "name": "stdout",
     "output_type": "stream",
     "text": [
      "client=<openai.resources.chat.completions.Completions object at 0x70c515773d10> async_client=<openai.resources.chat.completions.AsyncCompletions object at 0x70c515751090> root_client=<openai.OpenAI object at 0x70c525e8a490> root_async_client=<openai.AsyncOpenAI object at 0x70c515773bd0> openai_api_key=SecretStr('**********') openai_proxy=''\n"
     ]
    }
   ],
   "source": [
    "from langchain_openai import ChatOpenAI\n",
    "\n",
    "llm=ChatOpenAI(model=\"gpt-3.5-turbo\")\n",
    "print(llm)"
   ]
  },
  {
   "cell_type": "code",
   "execution_count": 6,
   "id": "fbb15dec-523f-41cf-9e50-50ddcc703196",
   "metadata": {},
   "outputs": [],
   "source": [
    "## Input and get response from LLM\n",
    "result=llm.invoke(\"What is generative AI?\")"
   ]
  },
  {
   "cell_type": "code",
   "execution_count": 7,
   "id": "3d990e72-ef94-48c3-bc3c-a3130d33ac70",
   "metadata": {},
   "outputs": [
    {
     "data": {
      "text/plain": [
       "AIMessage(content='Generative AI refers to a type of artificial intelligence that is designed to generate or create new content, such as images, text, music, or videos. This technology uses algorithms and machine learning techniques to produce original, novel output based on patterns and data it has been trained on. Generative AI can be used in a variety of applications, including content creation, art generation, and even in the development of new drugs and materials.', additional_kwargs={'refusal': None}, response_metadata={'token_usage': {'completion_tokens': 86, 'prompt_tokens': 13, 'total_tokens': 99, 'completion_tokens_details': {'reasoning_tokens': 0}}, 'model_name': 'gpt-3.5-turbo-0125', 'system_fingerprint': None, 'finish_reason': 'stop', 'logprobs': None}, id='run-c81eeab0-9e42-4137-991e-e6bfba331736-0', usage_metadata={'input_tokens': 13, 'output_tokens': 86, 'total_tokens': 99})"
      ]
     },
     "execution_count": 7,
     "metadata": {},
     "output_type": "execute_result"
    }
   ],
   "source": [
    "result"
   ]
  },
  {
   "cell_type": "code",
   "execution_count": 12,
   "id": "c13a8510-1a23-487d-b793-32b0974a2b63",
   "metadata": {},
   "outputs": [
    {
     "data": {
      "text/plain": [
       "ChatPromptTemplate(input_variables=['input'], messages=[SystemMessagePromptTemplate(prompt=PromptTemplate(input_variables=[], template='You are an expert AI Engineer. provide me answers based on the questions')), HumanMessagePromptTemplate(prompt=PromptTemplate(input_variables=['input'], template='{input}'))])"
      ]
     },
     "execution_count": 12,
     "metadata": {},
     "output_type": "execute_result"
    }
   ],
   "source": [
    "### Chatprompt Template\n",
    "from langchain_core.prompts import ChatPromptTemplate\n",
    "from langchain_core.output_parsers import StrOutputParser\n",
    "prompt= ChatPromptTemplate.from_messages(\n",
    "    [\n",
    "        (\"system\",\"You are an expert AI Engineer. provide me answers based on the questions\"),\n",
    "        (\"user\",\"{input}\")\n",
    "    ]\n",
    ")\n",
    "prompt"
   ]
  },
  {
   "cell_type": "code",
   "execution_count": 13,
   "id": "91794e0a-ca97-4b03-83e1-d11cf7421198",
   "metadata": {},
   "outputs": [],
   "source": [
    "chain=prompt|llm|StrOutputParser()\n",
    "result=chain.invoke({\"input\":\"Can you tell me about Langsmith?\"})"
   ]
  },
  {
   "cell_type": "code",
   "execution_count": 14,
   "id": "a1dbd645-8e6a-4bbd-8d26-4d264d23a3d4",
   "metadata": {},
   "outputs": [
    {
     "data": {
      "text/plain": [
       "'As an AI, I do not have specific information on Langsmith. It is possible that Langsmith is a fictional or lesser-known entity. If you can provide more context or details about Langsmith, I can attempt to provide more relevant information.'"
      ]
     },
     "execution_count": 14,
     "metadata": {},
     "output_type": "execute_result"
    }
   ],
   "source": [
    "result"
   ]
  },
  {
   "cell_type": "code",
   "execution_count": 11,
   "id": "931d344f-b7d9-4867-91b4-3182839ff889",
   "metadata": {},
   "outputs": [
    {
     "data": {
      "text/plain": [
       "langchain_core.messages.ai.AIMessage"
      ]
     },
     "execution_count": 11,
     "metadata": {},
     "output_type": "execute_result"
    }
   ],
   "source": [
    "type(result)"
   ]
  },
  {
   "cell_type": "code",
   "execution_count": null,
   "id": "1f43d0b4-529c-43ac-a627-54b56526a9e0",
   "metadata": {},
   "outputs": [],
   "source": []
  }
 ],
 "metadata": {
  "kernelspec": {
   "display_name": "Python 3.11 (torch)",
   "language": "python",
   "name": "pytorch"
  },
  "language_info": {
   "codemirror_mode": {
    "name": "ipython",
    "version": 3
   },
   "file_extension": ".py",
   "mimetype": "text/x-python",
   "name": "python",
   "nbconvert_exporter": "python",
   "pygments_lexer": "ipython3",
   "version": "3.11.9"
  }
 },
 "nbformat": 4,
 "nbformat_minor": 5
}
